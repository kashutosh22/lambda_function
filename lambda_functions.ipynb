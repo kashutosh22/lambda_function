{
 "cells": [
  {
   "cell_type": "code",
   "execution_count": 2,
   "id": "49c2111a",
   "metadata": {},
   "outputs": [
    {
     "name": "stdout",
     "output_type": "stream",
     "text": [
      "35\n",
      "42\n"
     ]
    }
   ],
   "source": [
    "# 1. WAP to create a lambda function that adds 30 to a given number passed in as an argument, also create a lambda function that multiplies argument x with argument y and print the result.\n",
    "\n",
    "add = lambda p : p + 15\n",
    "print(add(20))\n",
    "\n",
    "prod = lambda r, s : r * s\n",
    "print(prod(6,7))"
   ]
  },
  {
   "cell_type": "code",
   "execution_count": null,
   "id": "0c1e18a0",
   "metadata": {},
   "outputs": [],
   "source": []
  },
  {
   "cell_type": "code",
   "execution_count": 3,
   "id": "cbbc09fb",
   "metadata": {},
   "outputs": [
    {
     "name": "stdout",
     "output_type": "stream",
     "text": [
      "Double of no 20 =  40\n",
      "Triple of no 20 =  60\n",
      "Quadrupal of no 20 =  80\n",
      "Qiuntuple of no 20 =  100\n"
     ]
    }
   ],
   "source": [
    "# 2. WAP to create a function that takes one argument, and that argument will be multiplied with an unknown given number.\n",
    "\n",
    "def prod(n):\n",
    "    return lambda x : x * n\n",
    "result = prod(2)\n",
    "print('Double of no 20 = ', result(20))\n",
    "result = prod(3)\n",
    "print('Triple of no 20 = ', result(20))\n",
    "result = prod(4)\n",
    "print('Quadrupal of no 20 = ', result(20))\n",
    "result = prod(5)\n",
    "print('Qiuntuple of no 20 = ', result(20))\n"
   ]
  },
  {
   "cell_type": "code",
   "execution_count": null,
   "id": "36188dc9",
   "metadata": {},
   "outputs": [],
   "source": []
  },
  {
   "cell_type": "code",
   "execution_count": 16,
   "id": "d2702d21",
   "metadata": {},
   "outputs": [
    {
     "name": "stdout",
     "output_type": "stream",
     "text": [
      "Result after sorting\n",
      "[('Social sciences', 82), ('English', 88), ('Science', 90), ('Maths', 97)]\n"
     ]
    }
   ],
   "source": [
    "# 3. WAP to sort a given list of tuple using a lambda function results minimum marks obtained in the subject comes first.\n",
    "\n",
    "marks = [('English', 88), ('Science', 90), ('Maths', 97), ('Social sciences', 82)]\n",
    "marks.sort(key = lambda a : a[1])\n",
    "print('Result after sorting')\n",
    "print(marks)"
   ]
  },
  {
   "cell_type": "code",
   "execution_count": null,
   "id": "534caf0b",
   "metadata": {},
   "outputs": [],
   "source": []
  },
  {
   "cell_type": "code",
   "execution_count": 30,
   "id": "52be6ee6",
   "metadata": {},
   "outputs": [
    {
     "name": "stdout",
     "output_type": "stream",
     "text": [
      "Result after sorting - 1st\n",
      "[{'brand': 'Samsung', 'model': 7, 'color': 'Blue'}, {'brand': 'Nokia', 'model': 216, 'color': 'Dark grey'}, {'brand': 'Mi Max', 'model': '2', 'color': 'Gold'}]\n",
      "\n",
      "\n",
      "Result after sorting - 2nd \n",
      "[{'brand': 'Samsung', 'model': 7, 'color': 'Blue'}, {'brand': 'Nokia', 'model': 216, 'color': 'Dark grey'}, {'brand': 'Mi Max', 'model': '2', 'color': 'Gold'}]\n"
     ]
    }
   ],
   "source": [
    "# 4. WAP to sort a list of dictionaries using lambda function. (on basis of colour of mobile) \n",
    "\n",
    "phones =[{'brand': 'Nokia', 'model': 216, 'color': 'Dark grey'}, {'brand': 'Mi Max', 'model': '2', 'color': 'Gold'}, {'brand': 'Samsung', 'model': 7, 'color': 'Blue'}]\n",
    "\n",
    "# Soln 1:- \n",
    "phones.sort(key = lambda a : a['color'])\n",
    "print('Result after sorting - 1st')\n",
    "print(phones)\n",
    "\n",
    "print('\\n')\n",
    "\n",
    "# Soln 2:-\n",
    "sorted_phones = sorted(phones, key = lambda a : a['color'])\n",
    "print('Result after sorting - 2nd ')\n",
    "print(sorted_phones)"
   ]
  },
  {
   "cell_type": "code",
   "execution_count": null,
   "id": "8d433e08",
   "metadata": {},
   "outputs": [],
   "source": []
  },
  {
   "cell_type": "code",
   "execution_count": 12,
   "id": "d818c612",
   "metadata": {},
   "outputs": [
    {
     "name": "stdout",
     "output_type": "stream",
     "text": [
      "Even numbers from list are =  [2, 4, 6, 8, 10]\n",
      "Odd numbers from list are = [1, 3, 5, 7, 9]\n"
     ]
    }
   ],
   "source": [
    "# 5. WAP to filter even & odd numbers from a given list using lambda function.\n",
    "\n",
    "numbers = [1, 2, 3, 4, 5, 6, 7, 8, 9, 10]\n",
    "even = list(filter(lambda a : (a%2) == 0, numbers))\n",
    "print('Even numbers from list are = ', even)\n",
    "odd = list(filter(lambda a : (a%2) != 0, numbers))\n",
    "print('Odd numbers from list are =', odd)"
   ]
  },
  {
   "cell_type": "code",
   "execution_count": null,
   "id": "17b1021e",
   "metadata": {},
   "outputs": [],
   "source": []
  },
  {
   "cell_type": "code",
   "execution_count": 16,
   "id": "1099e518",
   "metadata": {},
   "outputs": [
    {
     "name": "stdout",
     "output_type": "stream",
     "text": [
      "Square of numbers in list =  [1, 4, 9, 16, 25, 36, 49, 64, 81, 100]\n",
      "Cube of numbers in list =  [1, 8, 27, 64, 125, 216, 343, 512, 729, 1000]\n"
     ]
    }
   ],
   "source": [
    "# 6. WAP to give square & cube of each number in list using lambda function.\n",
    "\n",
    "numbers = [1, 2, 3, 4, 5, 6, 7, 8, 9, 10]\n",
    "square = list(map(lambda a : a*a, numbers))\n",
    "print('Square of numbers in list = ', square)\n",
    "cube = list(map(lambda a : a**3, numbers))\n",
    "print('Cube of numbers in list = ', cube)"
   ]
  },
  {
   "cell_type": "code",
   "execution_count": null,
   "id": "070a86d8",
   "metadata": {},
   "outputs": [],
   "source": []
  },
  {
   "cell_type": "code",
   "execution_count": null,
   "id": "682c6a19",
   "metadata": {},
   "outputs": [],
   "source": []
  },
  {
   "cell_type": "code",
   "execution_count": 21,
   "id": "edb6ac33",
   "metadata": {},
   "outputs": [
    {
     "name": "stdout",
     "output_type": "stream",
     "text": [
      "True\n",
      "False\n"
     ]
    }
   ],
   "source": [
    "# 7. WAP to check whether a string start with given character using a lambda function. \n",
    "\n",
    "start = lambda a : True if a.startswith('I') else False\n",
    "print(start('India'))\n",
    "\n",
    "start = lambda a : True if a.startswith('I') else False\n",
    "print(start('England'))"
   ]
  },
  {
   "cell_type": "code",
   "execution_count": null,
   "id": "f2d7d290",
   "metadata": {},
   "outputs": [],
   "source": []
  },
  {
   "cell_type": "code",
   "execution_count": 24,
   "id": "06e5de90",
   "metadata": {},
   "outputs": [
    {
     "name": "stdout",
     "output_type": "stream",
     "text": [
      "Result is =  [1, 2, 8, 9]\n"
     ]
    }
   ],
   "source": [
    "# 8. WAP to find intersection of given two arrays.\n",
    "\n",
    "nums1 = [1, 2, 3, 5, 7, 8, 9, 10]\n",
    "nums2 = [1, 2, 4, 8, 9]\n",
    "\n",
    "intersection = list(filter(lambda a: a in nums1,nums2))\n",
    "print('Result is = ',intersection)"
   ]
  },
  {
   "cell_type": "code",
   "execution_count": null,
   "id": "de785b66",
   "metadata": {},
   "outputs": [],
   "source": []
  },
  {
   "cell_type": "code",
   "execution_count": 28,
   "id": "834d7532",
   "metadata": {},
   "outputs": [
    {
     "name": "stdout",
     "output_type": "stream",
     "text": [
      "Number of even numbers in the above array:  3\n",
      "\n",
      "Number of odd numbers in the above array:  5\n"
     ]
    }
   ],
   "source": [
    "# 9. WAP to count odd and even numbers present in list using lambda function.\n",
    "\n",
    "nums = [1, 2, 3, 5, 7, 8, 9, 10]\n",
    "count_odd = len(list(filter(lambda a: (a%2 != 0) , nums)))\n",
    "count_even = len(list(filter(lambda a: (a%2 == 0) , nums)))\n",
    "print(\"Number of even numbers in the above array: \", count_even)\n",
    "print(\"\\nNumber of odd numbers in the above array: \", count_odd)"
   ]
  },
  {
   "cell_type": "code",
   "execution_count": null,
   "id": "fdbba6cd",
   "metadata": {},
   "outputs": [],
   "source": []
  },
  {
   "cell_type": "code",
   "execution_count": 31,
   "id": "5545b2b9",
   "metadata": {},
   "outputs": [
    {
     "name": "stdout",
     "output_type": "stream",
     "text": [
      "Result: after adding two list\n",
      "[5, 7, 9]\n"
     ]
    }
   ],
   "source": [
    "# 10. WAP to add two lists using lambda function.\n",
    "\n",
    "nums1 = [1, 2, 3]\n",
    "nums2 = [4, 5, 6]\n",
    "result = map(lambda p, q: p + q, nums1, nums2)\n",
    "print(\"Result: after adding two list\")\n",
    "print(list(result))"
   ]
  },
  {
   "cell_type": "code",
   "execution_count": null,
   "id": "39bf1c83",
   "metadata": {},
   "outputs": [],
   "source": []
  }
 ],
 "metadata": {
  "kernelspec": {
   "display_name": "Python 3 (ipykernel)",
   "language": "python",
   "name": "python3"
  },
  "language_info": {
   "codemirror_mode": {
    "name": "ipython",
    "version": 3
   },
   "file_extension": ".py",
   "mimetype": "text/x-python",
   "name": "python",
   "nbconvert_exporter": "python",
   "pygments_lexer": "ipython3",
   "version": "3.9.7"
  }
 },
 "nbformat": 4,
 "nbformat_minor": 5
}
